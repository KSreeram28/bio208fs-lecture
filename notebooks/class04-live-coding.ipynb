{
 "cells": [
  {
   "cell_type": "markdown",
   "metadata": {},
   "source": [
    "#  Bio 208: Lecture 04 -- Live coding (annotated)"
   ]
  },
  {
   "cell_type": "markdown",
   "metadata": {},
   "source": [
    "## Strings"
   ]
  },
  {
   "cell_type": "markdown",
   "metadata": {},
   "source": [
    "### String creation\n",
    "\n",
    "Strings can be created by typing characters (ASCII or unicode) surrounded by either single quotes or double quotes."
   ]
  },
  {
   "cell_type": "code",
   "execution_count": 1,
   "metadata": {},
   "outputs": [],
   "source": [
    "s1 = \"ATGCCCGA\"  # double quotes\n",
    "s1"
   ]
  },
  {
   "cell_type": "code",
   "execution_count": 2,
   "metadata": {},
   "outputs": [],
   "source": [
    "s1 = 'ATGCCCGA'  # single quotes -- equivalent to above\n",
    "s1"
   ]
  },
  {
   "cell_type": "markdown",
   "metadata": {},
   "source": [
    "Being able to use both types of quotes means you can nest quotes in strings:"
   ]
  },
  {
   "cell_type": "code",
   "execution_count": 3,
   "metadata": {},
   "outputs": [],
   "source": [
    "s2 = \"He said, 'Hello world'\"\n",
    "s2"
   ]
  },
  {
   "cell_type": "markdown",
   "metadata": {},
   "source": [
    "Note the difference between showing the Python representation of a string (see example above) and printing the string. Here's the same string passed through the `print` function:"
   ]
  },
  {
   "cell_type": "code",
   "execution_count": 4,
   "metadata": {},
   "outputs": [],
   "source": [
    "print(s2)"
   ]
  },
  {
   "cell_type": "markdown",
   "metadata": {},
   "source": [
    "Notice that the outer quotes are no longer visible.  This is a subtle difference in this case, but see below..."
   ]
  },
  {
   "cell_type": "markdown",
   "metadata": {},
   "source": [
    "### String literals\n",
    "\n",
    "Some special characters such as newlines and tabs are written using \"string literals\" -- a special set of characters to indicate them.  For example, newline as written as `\\n` and tabs are written as `\\t`."
   ]
  },
  {
   "cell_type": "code",
   "execution_count": 5,
   "metadata": {},
   "outputs": [],
   "source": [
    "s3 = \"There will be a newline here\\nAnd then there will be more text...\"\n",
    "s3"
   ]
  },
  {
   "cell_type": "markdown",
   "metadata": {},
   "source": [
    "Again, compare the Python representation of the string in the output above, to the printed representation below:"
   ]
  },
  {
   "cell_type": "code",
   "execution_count": 6,
   "metadata": {},
   "outputs": [],
   "source": [
    "print(s3)"
   ]
  },
  {
   "cell_type": "markdown",
   "metadata": {},
   "source": [
    "### Triple quoted strings \n",
    "\n",
    "Triple quoted strings allow you to use special characters like tabs and newlines in a string without explicitly writing their string literal forms."
   ]
  },
  {
   "cell_type": "code",
   "execution_count": 7,
   "metadata": {},
   "outputs": [],
   "source": [
    "s3 = \"\"\"\n",
    "’Twas brillig, and the slithy toves\n",
    "      Did gyre and gimble in the wabe:\n",
    "All mimsy were the borogoves,\n",
    "      And the mome raths outgrabe. \n",
    "\"\"\""
   ]
  },
  {
   "cell_type": "code",
   "execution_count": 8,
   "metadata": {},
   "outputs": [],
   "source": [
    "print(s3)"
   ]
  },
  {
   "cell_type": "markdown",
   "metadata": {},
   "source": [
    "### Raw strings\n",
    "\n",
    "In a raw string, string literals remain uninterpretted. Raw strings are prefixed with `r` as shown below:"
   ]
  },
  {
   "cell_type": "code",
   "execution_count": 9,
   "metadata": {},
   "outputs": [],
   "source": [
    "s4 = r\"This is a raw string. I can write \\n here without generating a newline\"\n",
    "print(s4)"
   ]
  },
  {
   "cell_type": "markdown",
   "metadata": {},
   "source": [
    "### String interpolation with f-strings\n",
    "\n",
    "String interpolation using \"f-strings\" is a convenient when to insert the value of other computations into strings.  This works with variables you've created previously or directly with expressions as the following two examples illustrate: "
   ]
  },
  {
   "cell_type": "code",
   "execution_count": 10,
   "metadata": {},
   "outputs": [],
   "source": [
    "area = 3.141592654 * 10**2\n",
    "s5 = f\"The area of the circle is {area} cm^2\"\n",
    "print(s5)"
   ]
  },
  {
   "cell_type": "code",
   "execution_count": 11,
   "metadata": {},
   "outputs": [],
   "source": [
    "s5 = f\"The area of the circle is {3.141592654 * 10**2} cm^2\"\n",
    "print(s5)"
   ]
  },
  {
   "cell_type": "markdown",
   "metadata": {},
   "source": [
    "f-strings also accept format specifiers, which are useful for things like specifying the number of decimal places to include in the string representation of a floating point value:"
   ]
  },
  {
   "cell_type": "code",
   "execution_count": 12,
   "metadata": {},
   "outputs": [],
   "source": [
    "s6 = f\"The area of the circle is {area:0.2f} cm^2\"  # print 2 decimal places\n",
    "print(s6)"
   ]
  },
  {
   "cell_type": "markdown",
   "metadata": {},
   "source": [
    "### String indexing and slicing"
   ]
  },
  {
   "cell_type": "markdown",
   "metadata": {},
   "source": [
    "Strings have a length and support indexing and slicing in the same manner as lists. Like lists, strings are zero-indexed."
   ]
  },
  {
   "cell_type": "code",
   "execution_count": 13,
   "metadata": {},
   "outputs": [],
   "source": [
    "s1 = \"ATGCCCGA\""
   ]
  },
  {
   "cell_type": "code",
   "execution_count": 14,
   "metadata": {},
   "outputs": [],
   "source": [
    "s1[0] # 1st element"
   ]
  },
  {
   "cell_type": "code",
   "execution_count": 15,
   "metadata": {},
   "outputs": [
    {
     "data": {
      "text/plain": [
       "'T'"
      ]
     },
     "execution_count": 15,
     "metadata": {},
     "output_type": "execute_result"
    }
   ],
   "source": [
    "s1[1] # 2nd element (at index 1)"
   ]
  },
  {
   "cell_type": "code",
   "execution_count": 16,
   "metadata": {},
   "outputs": [
    {
     "data": {
      "text/plain": [
       "'A'"
      ]
     },
     "execution_count": 16,
     "metadata": {},
     "output_type": "execute_result"
    }
   ],
   "source": [
    "s1[-1] # last element"
   ]
  },
  {
   "cell_type": "code",
   "execution_count": 17,
   "metadata": {},
   "outputs": [
    {
     "data": {
      "text/plain": [
       "'ATG'"
      ]
     },
     "execution_count": 17,
     "metadata": {},
     "output_type": "execute_result"
    }
   ],
   "source": [
    "s1[:3] # first three elements"
   ]
  },
  {
   "cell_type": "code",
   "execution_count": 18,
   "metadata": {},
   "outputs": [
    {
     "data": {
      "text/plain": [
       "'CCCGA'"
      ]
     },
     "execution_count": 18,
     "metadata": {},
     "output_type": "execute_result"
    }
   ],
   "source": [
    "s1[3:] # everything from index 3 to the end"
   ]
  },
  {
   "cell_type": "code",
   "execution_count": 19,
   "metadata": {},
   "outputs": [
    {
     "data": {
      "text/plain": [
       "'AGCCCGTA'"
      ]
     },
     "execution_count": 19,
     "metadata": {},
     "output_type": "execute_result"
    }
   ],
   "source": [
    "s1[::-1]  # Can use strides with slices, for example this reverse the string"
   ]
  },
  {
   "cell_type": "markdown",
   "metadata": {},
   "source": [
    "### String are immutable"
   ]
  },
  {
   "cell_type": "markdown",
   "metadata": {},
   "source": [
    "Trying to change the elements of a string raises an error, because string objects in python are immutable:"
   ]
  },
  {
   "cell_type": "code",
   "execution_count": 20,
   "metadata": {},
   "outputs": [
    {
     "ename": "NameError",
     "evalue": "name 's' is not defined",
     "output_type": "error",
     "traceback": [
      "\u001b[0;31m---------------------------------------------------------------------------\u001b[0m",
      "\u001b[0;31mNameError\u001b[0m                                 Traceback (most recent call last)",
      "\u001b[0;32m<ipython-input-20-045f8256980d>\u001b[0m in \u001b[0;36m<module>\u001b[0;34m\u001b[0m\n\u001b[0;32m----> 1\u001b[0;31m \u001b[0ms\u001b[0m\u001b[0;34m[\u001b[0m\u001b[0;36m0\u001b[0m\u001b[0;34m]\u001b[0m \u001b[0;34m=\u001b[0m \u001b[0;34m\"T\"\u001b[0m\u001b[0;34m\u001b[0m\u001b[0;34m\u001b[0m\u001b[0m\n\u001b[0m",
      "\u001b[0;31mNameError\u001b[0m: name 's' is not defined"
     ]
    }
   ],
   "source": [
    "s[0] = \"T\""
   ]
  },
  {
   "cell_type": "markdown",
   "metadata": {},
   "source": [
    "### String concatenation and repetition"
   ]
  },
  {
   "cell_type": "markdown",
   "metadata": {},
   "source": [
    "Concatenating two strings using the `+` operator forms a new string:"
   ]
  },
  {
   "cell_type": "code",
   "execution_count": 21,
   "metadata": {},
   "outputs": [
    {
     "data": {
      "text/plain": [
       "'ATGGTA'"
      ]
     },
     "execution_count": 21,
     "metadata": {},
     "output_type": "execute_result"
    }
   ],
   "source": [
    "s4 = \"ATG\" \n",
    "s5 = \"GTA\"\n",
    "s4 + s5"
   ]
  },
  {
   "cell_type": "markdown",
   "metadata": {},
   "source": [
    "Concatenation can be comined with slicing to \"edit\" strings:"
   ]
  },
  {
   "cell_type": "code",
   "execution_count": 22,
   "metadata": {},
   "outputs": [
    {
     "name": "stdout",
     "output_type": "stream",
     "text": [
      "Original version:  How noow brown cow?\n",
      "Corrected version:  How now brown cow?\n"
     ]
    }
   ],
   "source": [
    "incorrect = \"How noow brown cow?\"\n",
    "print(\"Original version: \", incorrect)\n",
    "corrected = incorrect[:5] + incorrect[6:]\n",
    "print(\"Corrected version: \", corrected)"
   ]
  },
  {
   "cell_type": "markdown",
   "metadata": {},
   "source": [
    "The `*` operator when applied to a string and an integer repeats a string: "
   ]
  },
  {
   "cell_type": "code",
   "execution_count": 23,
   "metadata": {},
   "outputs": [
    {
     "data": {
      "text/plain": [
       "'TATATATA'"
      ]
     },
     "execution_count": 23,
     "metadata": {},
     "output_type": "execute_result"
    }
   ],
   "source": [
    "repetetive = \"TA\" * 4\n",
    "repetetive"
   ]
  },
  {
   "cell_type": "markdown",
   "metadata": {},
   "source": [
    "### Other useful functions on strings\n",
    "\n",
    "Here are a few other useful methods associated with string objects in Python.  See [the Python documentation](https://docs.python.org/3/library/stdtypes.html#text-sequence-type-str) for discussion of these methods and more:"
   ]
  },
  {
   "cell_type": "markdown",
   "metadata": {},
   "source": [
    "#### replace"
   ]
  },
  {
   "cell_type": "code",
   "execution_count": 24,
   "metadata": {},
   "outputs": [
    {
     "data": {
      "text/plain": [
       "'It was the best of times, it was the worst of times...'"
      ]
     },
     "execution_count": 24,
     "metadata": {},
     "output_type": "execute_result"
    }
   ],
   "source": [
    "# replace -- by default replace all instances of the first argument with the 2nd argument\n",
    "r1 = \"IT was The besT of Times, iT was The worsT of Times...\"\n",
    "r1.replace(\"T\", \"t\")"
   ]
  },
  {
   "cell_type": "code",
   "execution_count": 25,
   "metadata": {},
   "outputs": [
    {
     "data": {
      "text/plain": [
       "'IT was The besT of Times, iT was The worsT of Times...'"
      ]
     },
     "execution_count": 25,
     "metadata": {},
     "output_type": "execute_result"
    }
   ],
   "source": [
    "# note that replace doesn't change the original string\n",
    "r1"
   ]
  },
  {
   "cell_type": "markdown",
   "metadata": {},
   "source": [
    "#### strip\n",
    "\n",
    "`strip` removes white space characters ate the beginning and ending of string:"
   ]
  },
  {
   "cell_type": "code",
   "execution_count": 26,
   "metadata": {},
   "outputs": [
    {
     "data": {
      "text/plain": [
       "'    <- Look at all that whitespace at the beginning and ending ->    \\n'"
      ]
     },
     "execution_count": 26,
     "metadata": {},
     "output_type": "execute_result"
    }
   ],
   "source": [
    "r2 = \"    <- Look at all that whitespace at the beginning and ending ->    \\n\"\n",
    "r2"
   ]
  },
  {
   "cell_type": "code",
   "execution_count": 27,
   "metadata": {},
   "outputs": [
    {
     "data": {
      "text/plain": [
       "'<- Look at all that whitespace at the beginning and ending ->'"
      ]
     },
     "execution_count": 27,
     "metadata": {},
     "output_type": "execute_result"
    }
   ],
   "source": [
    "r2.strip()"
   ]
  },
  {
   "cell_type": "markdown",
   "metadata": {},
   "source": [
    "#### join\n",
    "\n",
    "`join` is a method that takes as input a list (or other sequence) of strings, and concatenates them with the string used to call the method. This is best illustrated by example:"
   ]
  },
  {
   "cell_type": "code",
   "execution_count": 28,
   "metadata": {},
   "outputs": [],
   "source": [
    "words = [\"how\", \"now\", \"brown\", \"cow\"] # create a list of words"
   ]
  },
  {
   "cell_type": "code",
   "execution_count": 29,
   "metadata": {},
   "outputs": [
    {
     "data": {
      "text/plain": [
       "'how now brown cow'"
      ]
     },
     "execution_count": 29,
     "metadata": {},
     "output_type": "execute_result"
    }
   ],
   "source": [
    "\" \".join(words)  # pass words as the argument to join called on the string containing a single space"
   ]
  },
  {
   "cell_type": "code",
   "execution_count": 30,
   "metadata": {},
   "outputs": [
    {
     "data": {
      "text/plain": [
       "'how_now_brown_cow'"
      ]
     },
     "execution_count": 30,
     "metadata": {},
     "output_type": "execute_result"
    }
   ],
   "source": [
    "\"_\".join(words) # same thing but using underscore as the calling string"
   ]
  },
  {
   "cell_type": "code",
   "execution_count": 31,
   "metadata": {},
   "outputs": [
    {
     "name": "stdout",
     "output_type": "stream",
     "text": [
      "how\n",
      "now\n",
      "brown\n",
      "cow\n"
     ]
    }
   ],
   "source": [
    "print(\"\\n\".join(words)) # or using newlines (best visualized by printing the string)"
   ]
  },
  {
   "cell_type": "markdown",
   "metadata": {},
   "source": [
    "## The complement of a DNA sequence\n",
    "\n",
    "Having learned the basics of string manipulation in Python we'll examine a number of different ways to write a function that operates on strings.  The function we'll examine is a simple but important function -- the complement of a DNA sequence.\n",
    "\n",
    "As we explore different ways to write a function to compute the complement of a DNA sequence we'll introduce some additional important Python concepts, including flow control statements (if-then statements and for-loops) and another common data structure (dictionaries)"
   ]
  },
  {
   "cell_type": "markdown",
   "metadata": {},
   "source": [
    "### Approach #1:  solve the problem for the smallest atomic unit, and then scale up\n",
    "\n",
    "In this approach we'll first solving the problem of computing the complement of one nucleotide -- the smallest unit of a DNA string -- and then figure out how to scale up that solution to work with multiple nucleotides."
   ]
  },
  {
   "cell_type": "markdown",
   "metadata": {},
   "source": [
    "### if-else statements\n",
    "\n",
    "Consider how we might verbally formulate the solution to the problem of producing the complement of a nucleotide:  \n",
    "\n",
    "> If we're handed the nucleobase \"T\" (thymine) we return an \"A\" (adenine); if given \"A\" we return \"T\"; if given \"G\" (guanine) we return \"C\" (cytosine); if given \"C\" we return \"A\".\n",
    "\n",
    "Notice we formulated that as a bunch of \"if this then that\" type statements.  Most programming languages allow you to expression such conditional computations as \"if-else\" setatements that allow you to structure the flow of execution so that certain expressions are executed only if particular conditions are met. Python \"if-else\" expression look like this:\n",
    "\n",
    "```python\n",
    "if (some condition is true):\n",
    "    execute this code\n",
    "else:\n",
    "    execute this other code\n",
    "```\n",
    "\n",
    "When you have more than two possible conditions to evaluate there is version we'll refer to as \"if-elif-else\":\n",
    "\n",
    "```python\n",
    "if (condition 1 is true):\n",
    "    execute code specific to condition 1\n",
    "elif (condition 2 is true):\n",
    "    execute code specific to condition 2\n",
    "...\n",
    "elif (...any number of additional conditions to check...)\n",
    "...\n",
    "else:\n",
    "    if none of the above conditions is true execute this code\n",
    "```"
   ]
  },
  {
   "cell_type": "markdown",
   "metadata": {},
   "source": [
    "To calculate the complement we have more than two conditions to check (4 possible nucleotides), so we'll use the \"if-elif-else\" form:"
   ]
  },
  {
   "cell_type": "code",
   "execution_count": 32,
   "metadata": {},
   "outputs": [
    {
     "name": "stdout",
     "output_type": "stream",
     "text": [
      "The complement of A is T.\n"
     ]
    }
   ],
   "source": [
    "nuc = \"A\"  # change this variable and re-evaluate this code block to see how the if-elif-else block below works\n",
    "\n",
    "if nuc == \"A\":\n",
    "    complement = \"T\"\n",
    "elif nuc == \"T\":\n",
    "    complement = \"A\"\n",
    "elif nuc == \"G\":\n",
    "    complement == \"C\"\n",
    "elif nuc == \"C\":\n",
    "    complement == \"G\"\n",
    "else:   \n",
    "    complement == \"N\"  # this last branch covers the condition were we get an\n",
    "                       # input we don't recognize. In this case we'll return\n",
    "                       # a \"N\" which is the way to express an ambiguous nucleotide\n",
    "\n",
    "print(f\"The complement of {nuc} is {complement}.\")"
   ]
  },
  {
   "cell_type": "markdown",
   "metadata": {},
   "source": [
    "Having seen how we can implement this basic algorithm with \"if-else\" statements, let's turn this into a function:"
   ]
  },
  {
   "cell_type": "code",
   "execution_count": 33,
   "metadata": {},
   "outputs": [],
   "source": [
    "def complement_nucleotide(n):\n",
    "    n = n.upper()  # capitalize the input so function also works with lower case strings\n",
    "    if n == \"A\":\n",
    "        return \"T\"\n",
    "    elif n == \"T\":\n",
    "        return \"A\"\n",
    "    elif n == \"G\":\n",
    "        return \"C\"\n",
    "    elif n == \"C\":\n",
    "        return \"G\"\n",
    "    else:\n",
    "        return \"N\""
   ]
  },
  {
   "cell_type": "code",
   "execution_count": 34,
   "metadata": {},
   "outputs": [
    {
     "data": {
      "text/plain": [
       "'A'"
      ]
     },
     "execution_count": 34,
     "metadata": {},
     "output_type": "execute_result"
    }
   ],
   "source": [
    "complement_nucleotide(\"T\")"
   ]
  },
  {
   "cell_type": "code",
   "execution_count": 35,
   "metadata": {},
   "outputs": [
    {
     "data": {
      "text/plain": [
       "'T'"
      ]
     },
     "execution_count": 35,
     "metadata": {},
     "output_type": "execute_result"
    }
   ],
   "source": [
    "complement_nucleotide(\"a\")  # also works with lower case, see: note about `upper` method on strings"
   ]
  },
  {
   "cell_type": "markdown",
   "metadata": {},
   "source": [
    "### Scaling up using iteration\n",
    "\n",
    "We've successfully figured out how to write a function to compute the complement of a string with a single nucleotide, but we haven't yet solved the general case of a string containing multiple nucleotides.  To do that we'll need to introduce the concept of \"for loops\". "
   ]
  },
  {
   "cell_type": "markdown",
   "metadata": {},
   "source": [
    "#### for loops\n",
    "\n",
    "A \"for loop\" is a control flow statement that \"iterates\" (traverses, walks-over) a sequence-like object (things like strings, lists, arrays). A common use of for loops is to carry out a computation on each element of a sequence  or to make a calculation that involves all the elements of a sequence (like calculating a sum).\n",
    "\n",
    "The general form of a form of a for-loop in Python is:\n",
    "\n",
    "```python\n",
    "for item in seq:\n",
    "    some computation applied to each item (thing) in the seq object\n",
    "```"
   ]
  },
  {
   "cell_type": "markdown",
   "metadata": {},
   "source": [
    "Here's an example of a for loop operating on Boolean values:"
   ]
  },
  {
   "cell_type": "code",
   "execution_count": 36,
   "metadata": {},
   "outputs": [
    {
     "data": {
      "text/plain": [
       "[False, False, False, True]"
      ]
     },
     "execution_count": 36,
     "metadata": {},
     "output_type": "execute_result"
    }
   ],
   "source": [
    "x = [True, True, True, False]\n",
    "y = []\n",
    "\n",
    "for item in x:\n",
    "    y.append(not item)  # calculate the inverse of the item and append to the list y\n",
    "    \n",
    "y"
   ]
  },
  {
   "cell_type": "markdown",
   "metadata": {},
   "source": [
    "Here's another slightly more complicated example where there are multiple statements in the body of the for-loop."
   ]
  },
  {
   "cell_type": "code",
   "execution_count": 37,
   "metadata": {},
   "outputs": [
    {
     "data": {
      "text/plain": [
       "'SHOUTING ON THE INTERNET looks like this!'"
      ]
     },
     "execution_count": 37,
     "metadata": {},
     "output_type": "execute_result"
    }
   ],
   "source": [
    "sentence = \"shouting on the internet LOOKS LIKE THIS!\"\n",
    "newsentence = \"\"\n",
    "\n",
    "for letter in sentence:\n",
    "    if letter.islower():  # lookup islower in python docs\n",
    "        # newsentence += ... is short-hand for writing newsentence = newsentence + ....\n",
    "        newsentence += letter.upper()  \n",
    "    else:\n",
    "        newsentence += letter.lower()\n",
    "\n",
    "newsentence"
   ]
  },
  {
   "cell_type": "markdown",
   "metadata": {},
   "source": [
    "#### Using our `complement_nucleotide` function in a for loop\n",
    "\n",
    "Now that we know how for loops work let's see if we can use one with the `complement_nucletoide` function we defined above:"
   ]
  },
  {
   "cell_type": "code",
   "execution_count": 38,
   "metadata": {},
   "outputs": [
    {
     "data": {
      "text/plain": [
       "'TACGGG'"
      ]
     },
     "execution_count": 38,
     "metadata": {},
     "output_type": "execute_result"
    }
   ],
   "source": [
    "seq = \"ATGCCC\"\n",
    "compseq = \"\"\n",
    "\n",
    "for nuc in seq:\n",
    "    compseq += complement_nucleotide(nuc)\n",
    "\n",
    "compseq"
   ]
  },
  {
   "cell_type": "markdown",
   "metadata": {},
   "source": [
    "Awesome!  Now let's wrap this logic in another function:"
   ]
  },
  {
   "cell_type": "code",
   "execution_count": 39,
   "metadata": {},
   "outputs": [],
   "source": [
    "def complement_sequence(seq):\n",
    "    compseq = \"\"\n",
    "    for nuc in seq:\n",
    "        compseq += complement_nucleotide(nuc)\n",
    "    return compseq"
   ]
  },
  {
   "cell_type": "markdown",
   "metadata": {},
   "source": [
    "Now to test it:"
   ]
  },
  {
   "cell_type": "code",
   "execution_count": 40,
   "metadata": {},
   "outputs": [
    {
     "data": {
      "text/plain": [
       "'TACGGGG'"
      ]
     },
     "execution_count": 40,
     "metadata": {},
     "output_type": "execute_result"
    }
   ],
   "source": [
    "complement_sequence(\"ATGCCCC\")"
   ]
  },
  {
   "cell_type": "code",
   "execution_count": 41,
   "metadata": {},
   "outputs": [
    {
     "data": {
      "text/plain": [
       "'NNNNNNNNGTNNNNNNA'"
      ]
     },
     "execution_count": 41,
     "metadata": {},
     "output_type": "execute_result"
    }
   ],
   "source": [
    "complement_sequence(\"nonsensical input\")"
   ]
  },
  {
   "cell_type": "markdown",
   "metadata": {},
   "source": [
    "#### for loops with an explicit index\n",
    "\n",
    "If you've programmed in languages like C/C++ or Java, you're probably more familiar with for-loop structures like the one below, where our for-loop iterates over a set of integer values and uses those index values to retrieve elements to compute on:"
   ]
  },
  {
   "cell_type": "code",
   "execution_count": 42,
   "metadata": {},
   "outputs": [
    {
     "data": {
      "text/plain": [
       "'TACGGGG'"
      ]
     },
     "execution_count": 42,
     "metadata": {},
     "output_type": "execute_result"
    }
   ],
   "source": [
    "def complement_sequence_Clike(seq):\n",
    "    compseq = \"\"\n",
    "    for i in range(len(seq)):\n",
    "        compseq = compseq + complement_nucleotide(seq[i])\n",
    "    return compseq\n",
    "\n",
    "complement_sequence_Clike(\"ATGCCCC\")"
   ]
  },
  {
   "cell_type": "markdown",
   "metadata": {},
   "source": [
    "As you see this works as well, but the first form is more idiomatic for simple loops.  However this second form with explicit indexing is sometimes preferred for more complex operations, like the example below where we are working with slices of a string:\n"
   ]
  },
  {
   "cell_type": "code",
   "execution_count": 43,
   "metadata": {},
   "outputs": [
    {
     "data": {
      "text/plain": [
       "['ab', 'cd', 'ef', 'g']"
      ]
     },
     "execution_count": 43,
     "metadata": {},
     "output_type": "execute_result"
    }
   ],
   "source": [
    "s = \"abcdefg\"\n",
    "letterpairs = []\n",
    "\n",
    "for i in range(0, len(s), 2):  # range from 0 to len(s), stepping by 2\n",
    "    letterpairs.append(s[i:i+2])\n",
    "    \n",
    "letterpairs\n"
   ]
  },
  {
   "cell_type": "markdown",
   "metadata": {},
   "source": [
    "### List comprehensions"
   ]
  },
  {
   "cell_type": "markdown",
   "metadata": {},
   "source": [
    "Iteration is such a fundamental concept in programming that Python includes a special syntax called a \"list comprehension\" that allows us to iterate over a sequence, applying some computation of interest, and collect the results of each of those computations into a list.  The list comprehension syntax looks like this:\n",
    "\n",
    "```python\n",
    "[do some computation on item for item in seq]\n",
    "```\n",
    "\n",
    "We can think of a list comprehension as having two parts of the comprehension, to the left and right of the `for` keyword.  The left part specifies what you're doing, and the right part specifies what you're doing it with.\n",
    "\n",
    "Here are some examples:"
   ]
  },
  {
   "cell_type": "code",
   "execution_count": 44,
   "metadata": {},
   "outputs": [
    {
     "data": {
      "text/plain": [
       "[-1, -2, -3]"
      ]
     },
     "execution_count": 44,
     "metadata": {},
     "output_type": "execute_result"
    }
   ],
   "source": [
    "[-x for x in [1,2,3]]  # left part negates the value, right part specifies what values we're negating"
   ]
  },
  {
   "cell_type": "markdown",
   "metadata": {},
   "source": [
    "To emphasize the parallels, here's how you'd do the same computation using a for-loop:"
   ]
  },
  {
   "cell_type": "code",
   "execution_count": 45,
   "metadata": {},
   "outputs": [
    {
     "data": {
      "text/plain": [
       "[-1, -2, -3]"
      ]
     },
     "execution_count": 45,
     "metadata": {},
     "output_type": "execute_result"
    }
   ],
   "source": [
    "result = []\n",
    "\n",
    "for x in [1,2,3]:\n",
    "    result.append(-x)\n",
    "\n",
    "result"
   ]
  },
  {
   "cell_type": "markdown",
   "metadata": {},
   "source": [
    "The list comprehension form is much more compact to write and they're also (usually) more computationally efficient than the corresponding for-loop, so I tend to use them wherever appropriate as long as they don't obscure the logic of my program.\n",
    "\n",
    "Here's a few more examples of list comprehensions:"
   ]
  },
  {
   "cell_type": "code",
   "execution_count": 46,
   "metadata": {},
   "outputs": [
    {
     "data": {
      "text/plain": [
       "[0, 1, 4, 9, 16, 25, 36, 49, 64, 81]"
      ]
     },
     "execution_count": 46,
     "metadata": {},
     "output_type": "execute_result"
    }
   ],
   "source": [
    "[x**2 for x in range(10)]  # square every number between 0 and 9"
   ]
  },
  {
   "cell_type": "code",
   "execution_count": 47,
   "metadata": {},
   "outputs": [
    {
     "data": {
      "text/plain": [
       "['ab', 'cd', 'ef', 'g']"
      ]
     },
     "execution_count": 47,
     "metadata": {},
     "output_type": "execute_result"
    }
   ],
   "source": [
    "s = \"abcdefg\"\n",
    "letterpairs = [s[i:i+2] for i in range(0, len(s), 2)]\n",
    "letterpairs"
   ]
  },
  {
   "cell_type": "markdown",
   "metadata": {},
   "source": [
    "#### Conditionals in list comprehensions\n",
    "\n",
    "List comprehension also support a conditional form, as illustrated below:"
   ]
  },
  {
   "cell_type": "code",
   "execution_count": 48,
   "metadata": {},
   "outputs": [
    {
     "data": {
      "text/plain": [
       "[2.0, 3.0, 4.0]"
      ]
     },
     "execution_count": 48,
     "metadata": {},
     "output_type": "execute_result"
    }
   ],
   "source": [
    "from math import sqrt\n",
    "\n",
    "vals = [4, 9, 16, -25]\n",
    "\n",
    "[sqrt(x) for x in vals if x >= 0]  # calculate square roots but only for values greater than 0"
   ]
  },
  {
   "cell_type": "markdown",
   "metadata": {},
   "source": [
    "List comprehensions also support an \"if-else\" form but this requires you move the if-else on the left side of the `for` keyword:"
   ]
  },
  {
   "cell_type": "code",
   "execution_count": 49,
   "metadata": {},
   "outputs": [
    {
     "data": {
      "text/plain": [
       "[2.0, 3.0, 4.0, nan]"
      ]
     },
     "execution_count": 49,
     "metadata": {},
     "output_type": "execute_result"
    }
   ],
   "source": [
    "# the nan (\"not a number\") object, defined in the math library,\n",
    "# is a useful way to represent the result of numerical computations that\n",
    "# might produce invalid results for some inputs\n",
    "from math import nan \n",
    "\n",
    "[sqrt(x) if x > 0 else nan for x in vals]"
   ]
  },
  {
   "cell_type": "markdown",
   "metadata": {},
   "source": [
    "Unfortunately, the \"if-else\" form of list comprehensions isn't quite as readable as the standard form or the single if form."
   ]
  },
  {
   "cell_type": "markdown",
   "metadata": {},
   "source": [
    "#### A list comprehension version of complement_sequence\n",
    "\n",
    "Let's see how we might use a list comprehension to implement a function equivalent to `complent_sequence` defined above:"
   ]
  },
  {
   "cell_type": "code",
   "execution_count": 50,
   "metadata": {},
   "outputs": [],
   "source": [
    "def complement_sequence_LC(seq):\n",
    "    return \"\".join([complement_nucleotide(nuc) for nuc in seq])"
   ]
  },
  {
   "cell_type": "code",
   "execution_count": 51,
   "metadata": {},
   "outputs": [
    {
     "ename": "NameError",
     "evalue": "name 'complement_sequenceLC' is not defined",
     "output_type": "error",
     "traceback": [
      "\u001b[0;31m---------------------------------------------------------------------------\u001b[0m",
      "\u001b[0;31mNameError\u001b[0m                                 Traceback (most recent call last)",
      "\u001b[0;32m<ipython-input-51-a8b417c32dd0>\u001b[0m in \u001b[0;36m<module>\u001b[0;34m\u001b[0m\n\u001b[0;32m----> 1\u001b[0;31m \u001b[0mcomplement_sequenceLC\u001b[0m\u001b[0;34m(\u001b[0m\u001b[0;34m\"ATGCCCC\"\u001b[0m\u001b[0;34m)\u001b[0m\u001b[0;34m\u001b[0m\u001b[0;34m\u001b[0m\u001b[0m\n\u001b[0m",
      "\u001b[0;31mNameError\u001b[0m: name 'complement_sequenceLC' is not defined"
     ]
    }
   ],
   "source": [
    "complement_sequenceLC(\"ATGCCCC\")"
   ]
  },
  {
   "cell_type": "markdown",
   "metadata": {},
   "source": [
    "That was super easy using a list comprehension!"
   ]
  },
  {
   "cell_type": "markdown",
   "metadata": {},
   "source": [
    "### One more version using dictionaries\n",
    "\n",
    "We're now going to look at one more implementation of `complement_sequence` using a data structure called a dictionary (`dict`). Dictionaries along with lists (and tuples which we haven't looked at) are one of the core Pythond data structures.\n",
    "\n",
    "A dictionary (sometimes called a hashmap or simply a map) is a data structured which can be used to represent mappings or relationships between pairs of objects.  The things you're mapping from are often called \"keys\", while the things your mapping to are often referred to as \"values\".  A dictionary is thus a collection of key,value pairs.\n",
    "\n",
    "For example, you might want to maintain a mapping between single letter DNA abbreviations and the full names of the nucleotides they represent.  Here's how you'd construction such a mapping using a dictionary:\n"
   ]
  },
  {
   "cell_type": "code",
   "execution_count": 52,
   "metadata": {},
   "outputs": [],
   "source": [
    "# dictionaries are constructed inside curly brackets, each key:value pair is separated by a comma\n",
    "nuc2name = {\"A\": \"adenine\", \"T\":\"thymine\", \"G\":\"guanine\", \"C\":\"cytosine\"}"
   ]
  },
  {
   "cell_type": "markdown",
   "metadata": {},
   "source": [
    "Sometimes for clarity it can be helpful to reformat a statement like the one above like the following, because the vertical arrangement helps to emphasize each key,value pair:"
   ]
  },
  {
   "cell_type": "code",
   "execution_count": 53,
   "metadata": {},
   "outputs": [],
   "source": [
    "nuc2name = {\n",
    "    \"A\": \"adenine\", \n",
    "    \"T\": \"thymine\", \n",
    "    \"G\": \"guanine\", \n",
    "    \"C\": \"cytosine\"\n",
    "}"
   ]
  },
  {
   "cell_type": "markdown",
   "metadata": {},
   "source": [
    "Having defined a dictionary we can look up the values associated with a key using the following syntax:"
   ]
  },
  {
   "cell_type": "code",
   "execution_count": 54,
   "metadata": {},
   "outputs": [
    {
     "data": {
      "text/plain": [
       "'adenine'"
      ]
     },
     "execution_count": 54,
     "metadata": {},
     "output_type": "execute_result"
    }
   ],
   "source": [
    "nuc2name[\"A\"]"
   ]
  },
  {
   "cell_type": "code",
   "execution_count": 55,
   "metadata": {},
   "outputs": [
    {
     "data": {
      "text/plain": [
       "'cytosine'"
      ]
     },
     "execution_count": 55,
     "metadata": {},
     "output_type": "execute_result"
    }
   ],
   "source": [
    "nuc2name[\"C\"]"
   ]
  },
  {
   "cell_type": "markdown",
   "metadata": {},
   "source": [
    "We can use a for loop or list comprehension to iterate over the keys in a dictionary:"
   ]
  },
  {
   "cell_type": "code",
   "execution_count": 56,
   "metadata": {},
   "outputs": [
    {
     "name": "stdout",
     "output_type": "stream",
     "text": [
      "A stands for adenine\n",
      "T stands for thymine\n",
      "G stands for guanine\n",
      "C stands for cytosine\n"
     ]
    }
   ],
   "source": [
    "for key in nuc2name:\n",
    "    print(f\"{key} stands for {nuc2name[key]}\")"
   ]
  },
  {
   "cell_type": "markdown",
   "metadata": {},
   "source": [
    "If we want to get keys and associated values simultaneously we can use the `items` method associated with dictionaries:"
   ]
  },
  {
   "cell_type": "code",
   "execution_count": 57,
   "metadata": {},
   "outputs": [
    {
     "name": "stdout",
     "output_type": "stream",
     "text": [
      "A stands for adenine\n",
      "T stands for thymine\n",
      "G stands for guanine\n",
      "C stands for cytosine\n"
     ]
    }
   ],
   "source": [
    "for (key, value) in nuc2name.items():\n",
    "    print(f\"{key} stands for {value}\")"
   ]
  },
  {
   "cell_type": "markdown",
   "metadata": {},
   "source": [
    "The keys and values of a dictionary don't have to be of the same type. For example, here's a dictionary mapping the names of fruits to their prices in dollars:"
   ]
  },
  {
   "cell_type": "code",
   "execution_count": 58,
   "metadata": {},
   "outputs": [],
   "source": [
    "fruit2price = {\n",
    "    \"apples\":  1.50,\n",
    "    \"bananas\": 0.99,\n",
    "    \"cherries\": 3.99,\n",
    "    \"pineapple\": 8.99,\n",
    "}"
   ]
  },
  {
   "cell_type": "markdown",
   "metadata": {},
   "source": [
    "The keys of a dictionary should be non-mutable objects like strings or numbers, but the values can be arbitrary Python objects, such as lists:"
   ]
  },
  {
   "cell_type": "code",
   "execution_count": 59,
   "metadata": {},
   "outputs": [
    {
     "name": "stdout",
     "output_type": "stream",
     "text": [
      "Here are some words I know with the letter A:  ['apple', 'aardvark', 'apricot']\n",
      "Here are some words I know with the letter B:  ['banana', 'baby']\n",
      "Here are some words I know with the letter C:  ['cobra', 'copper', 'capriciuos', 'carrot']\n"
     ]
    }
   ],
   "source": [
    "letter2words = {\n",
    "    \"a\": [\"apple\", \"aardvark\", \"apricot\"],\n",
    "    \"b\": [\"banana\", \"baby\"],\n",
    "    \"c\": [\"cobra\", \"copper\", \"capriciuos\", \"carrot\"]\n",
    "}\n",
    "\n",
    "for key in letter2words:\n",
    "    print(f\"Here are some words I know with the letter {key.upper()}: \", letter2words[key])\n",
    "    "
   ]
  },
  {
   "cell_type": "markdown",
   "metadata": {},
   "source": [
    "#### Representing nucleotide complements using a dictionary\n",
    "\n",
    "Back to the task at hand. Earlier we wrote a function called `complement_nucleotide` that given an input nucleotide return that nucleotides complement.  This was in essence a mapping function.  Here's how we could represent that same mapping using a dictionary:"
   ]
  },
  {
   "cell_type": "code",
   "execution_count": 60,
   "metadata": {},
   "outputs": [],
   "source": [
    "nuc2complement = {\n",
    "    \"A\": \"T\", \n",
    "    \"T\": \"A\",\n",
    "    \"G\": \"C\",\n",
    "    \"C\": \"G\"}"
   ]
  },
  {
   "cell_type": "markdown",
   "metadata": {},
   "source": [
    "With such a dictionary, we could rewrite the `complement_sequence` function as so:"
   ]
  },
  {
   "cell_type": "code",
   "execution_count": 61,
   "metadata": {},
   "outputs": [
    {
     "data": {
      "text/plain": [
       "'TACGGGG'"
      ]
     },
     "execution_count": 61,
     "metadata": {},
     "output_type": "execute_result"
    }
   ],
   "source": [
    "def complement_sequence_dict(seq):\n",
    "\n",
    "    \n",
    "    seq = seq.upper()\n",
    "    compseq = \"\"\n",
    "    for nuc in seq:\n",
    "        if nuc in nuc2complement:  # test whether the character is in our dictionary\n",
    "            compseq += nuc2complement[nuc]\n",
    "        else:\n",
    "            compseq += \"N\"  # if not in dict, return ambiguity code\n",
    "    return compseq\n",
    "\n",
    "complement_sequence_dict(\"ATGCCCC\")"
   ]
  },
  {
   "cell_type": "markdown",
   "metadata": {},
   "source": [
    "Or by combining a dictionary with a list comprehension:"
   ]
  },
  {
   "cell_type": "code",
   "execution_count": 62,
   "metadata": {},
   "outputs": [
    {
     "data": {
      "text/plain": [
       "'TACGGGG'"
      ]
     },
     "execution_count": 62,
     "metadata": {},
     "output_type": "execute_result"
    }
   ],
   "source": [
    "def complement_sequence_dictLC(seq):\n",
    "    seq = seq.upper()\n",
    "    return \"\".join([nuc2complement[nuc] \n",
    "                    if nuc in nuc2complement\n",
    "                    else \"N\" \n",
    "                    for nuc in seq])\n",
    "    \n",
    "complement_sequence_dictLC(\"ATGCCCC\")"
   ]
  },
  {
   "cell_type": "code",
   "execution_count": null,
   "metadata": {},
   "outputs": [],
   "source": []
  }
 ],
 "metadata": {
  "kernelspec": {
   "display_name": "Python 3",
   "language": "python",
   "name": "python3"
  },
  "language_info": {
   "codemirror_mode": {
    "name": "ipython",
    "version": 3
   },
   "file_extension": ".py",
   "mimetype": "text/x-python",
   "name": "python",
   "nbconvert_exporter": "python",
   "pygments_lexer": "ipython3",
   "version": "3.7.6"
  }
 },
 "nbformat": 4,
 "nbformat_minor": 4
}
